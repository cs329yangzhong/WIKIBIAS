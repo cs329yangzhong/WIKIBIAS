{
 "cells": [
  {
   "cell_type": "markdown",
   "metadata": {},
   "source": [
    "## Evaluation of Tagging Models Output"
   ]
  },
  {
   "cell_type": "code",
   "execution_count": 1,
   "metadata": {},
   "outputs": [],
   "source": [
    "from eval_Score import *"
   ]
  },
  {
   "cell_type": "code",
   "execution_count": null,
   "metadata": {},
   "outputs": [],
   "source": [
    "## If given a ckpt, eval on test set.\n",
    "import os\n"
   ]
  },
  {
   "cell_type": "code",
   "execution_count": 4,
   "metadata": {},
   "outputs": [
    {
     "name": "stdout",
     "output_type": "stream",
     "text": [
      "test_out_out_tag_cased_extra_feature_0510_autolabel_large_seed0_lr_2e-5_epoch3_task_ratio0.0.txt ##\n",
      "!!\n",
      "All sents 1052\n",
      "All unique sents 1052\n",
      "All sents 1052\n",
      "All unique sents 1052\n",
      "{'1', '0'}\n",
      "HAVE DATA 852\n",
      "852\n",
      "             precision    recall  f1-score   support\n",
      "\n",
      "       bias    0.45881   0.41136   0.43379       880\n",
      "\n",
      "avg / total    0.45881   0.41136   0.43379       880\n",
      "\n",
      "processed 26433 tokens with 880 phrases; found: 789 phrases; correct: 399.\n",
      "accuracy:  92.82%; precision:  50.57%; recall:  45.34%; FB1:  47.81\n",
      "             bias: precision:  50.57%; recall:  45.34%; FB1:  47.81 foundGuessed:  789\n",
      "processed 26433 tokens with 880 phrases; found: 789 phrases; correct: 472.\n",
      "accuracy:  92.82%; precision:  59.82%; recall:  53.64%; FB1:  56.56\n",
      "             bias: precision:  59.70%; recall:  53.52%; FB1:  56.44 foundGuessed:  789\n",
      "47.81\n",
      "56.56\n"
     ]
    }
   ],
   "source": [
    "# binary setting\n",
    "out_path = 'test_out_out_tag_cased_extra_feature_0510_autolabel_large_seed0_lr_2e-5_epoch3_task_ratio0.0.txt'\n",
    "ref_path = \"../../data/tag_binary/test_source.tsv\"\n",
    "a,b = eval_scores(out_path, raw_file_path=ref_path)\n",
    "  \n",
    "ex_f1 = (a['overall']['F1'])\n",
    "p_f1 = (b['overall']['F1'])\n",
    "print(ex_f1)\n",
    "print(p_f1)"
   ]
  },
  {
   "cell_type": "markdown",
   "metadata": {},
   "source": [
    "## Visualizing Tagging Output"
   ]
  },
  {
   "cell_type": "code",
   "execution_count": 16,
   "metadata": {},
   "outputs": [],
   "source": [
    "def extract_phrase(sents, labels):\n",
    "    out = []\n",
    "    for index, label in enumerate(labels):\n",
    "        if out == [] and label != \"O\":\n",
    "            out.append([sents[index]])\n",
    "        elif label != \"O\":\n",
    "            \n",
    "            if label == \"B-bias\":\n",
    "                out.append([sents[index]])\n",
    "            else:\n",
    "                if labels[index-1] != \"O\" and labels[index] != \"O\":\n",
    "                    out[-1].append(sents[index])\n",
    "                else:\n",
    "                    out.append([sents[index]])\n",
    "    return out   "
   ]
  },
  {
   "cell_type": "code",
   "execution_count": 19,
   "metadata": {},
   "outputs": [
    {
     "name": "stdout",
     "output_type": "stream",
     "text": [
      "test_out_out_tag_cased_extra_feature_0510_autolabel_large_seed0_lr_2e-5_epoch3_task_ratio0.0.txt ##\n",
      "!!\n",
      "['O', 'O', 'O', 'O', 'O', 'O', 'O', 'O', 'O', 'O', 'B-bias', 'O', 'O', 'O', 'I-bias', 'O', 'O']\n",
      "SENT:  Target also offers the dog as a stuffed toy for special events or team member recognition .\n",
      "GOLD:  [['team', 'member']]\n",
      "PRED:  [['special'], ['member']]\n",
      "\n"
     ]
    }
   ],
   "source": [
    "data = read_file(out_path)\n",
    "for a,b,_, c in data:\n",
    "    print(c)\n",
    "    gold_phrase = extract_phrase(a,b)\n",
    "    pred_phrase = extract_phrase(a,c)\n",
    "    print(\"SENT: \", \" \".join(a))\n",
    "    print(\"GOLD: \", gold_phrase)\n",
    "    print(\"PRED: \", pred_phrase)\n",
    "    print()\n",
    "    break"
   ]
  },
  {
   "cell_type": "code",
   "execution_count": null,
   "metadata": {},
   "outputs": [],
   "source": []
  }
 ],
 "metadata": {
  "kernelspec": {
   "display_name": "Python 3",
   "language": "python",
   "name": "python3"
  },
  "language_info": {
   "codemirror_mode": {
    "name": "ipython",
    "version": 3
   },
   "file_extension": ".py",
   "mimetype": "text/x-python",
   "name": "python",
   "nbconvert_exporter": "python",
   "pygments_lexer": "ipython3",
   "version": "3.6.8"
  }
 },
 "nbformat": 4,
 "nbformat_minor": 2
}
